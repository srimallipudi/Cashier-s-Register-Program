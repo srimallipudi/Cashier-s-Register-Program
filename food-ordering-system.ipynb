{
 "cells": [
  {
   "cell_type": "markdown",
   "metadata": {},
   "source": [
    "## Part II. Ordering System\n",
    "source: https://codereview.stackexchange.com/questions/176377/mcdonalds-food-order-system  \n",
    "<b>Note.</b> This project has a tuple data structure which will be covered in the future lecture. The video tutorial has a full solution how to work around it in this example."
   ]
  },
  {
   "cell_type": "markdown",
   "metadata": {},
   "source": [
    "#### Streamline the ordering system and debug all errors\n",
    "+ Display the correct Menu\n",
    "+ You should use a number to select a menu item\n",
    "+ You should use a number to enter a quantity of the item"
   ]
  },
  {
   "cell_type": "markdown",
   "metadata": {},
   "source": [
    "### Self Evaluation:\n",
    "##### Does project a6-c work fully, partialy, or not at all?\n",
    "This program is fully working.\n",
    "##### Discuss what you have achieved\n",
    "Using the a6-b-Mallipudi project, I added more features to the program by importing date & time modules, and creating the functions for subtotal, tax, total amount, right_justify, and print_item to organize the program. Then processed the amounts using the functions and printed the invoice with columns aligned like a real receipt with item ordered quantity details being taken from order_list and respective item description & price details teken from the given tuple 'A'. I used for loop to print the details of the items ordered with quantity and price details from the order_list."
   ]
  },
  {
   "cell_type": "code",
   "execution_count": 9,
   "metadata": {},
   "outputs": [],
   "source": [
    "# Importing date and time modules\n",
    "\n",
    "import time\n",
    "import datetime"
   ]
  },
  {
   "cell_type": "code",
   "execution_count": 10,
   "metadata": {},
   "outputs": [],
   "source": [
    "# Using the functions to organise the program\n",
    "\n",
    "# Computation of subtotal\n",
    "def cal_subtotal (A, order_list):\n",
    "    result = 0\n",
    "    for i in order_list:\n",
    "        result += A[i[0]-1][1]*i[1]\n",
    "    return result\n",
    "        \n",
    "# Computation of tax amount\n",
    "def cal_taxamount (subtotal, tax_rate):\n",
    "    return subtotal * tax_rate\n",
    "\n",
    "# Computation of Total bill amount\n",
    "def cal_totalbill (subtotal, tax_amount):\n",
    "    return subtotal + tax_amount\n",
    "\n",
    "def print_item(num, n, p):\n",
    "    num_of_spaces = num - len(n)\n",
    "    result = num_of_spaces * \" \" + n + \"     \" + \"${:,.2f}\".format(p) + \"\\n\"\n",
    "    return result\n",
    "\n",
    "def right_justify(s):\n",
    "    num_of_spaces = 22 - len(s)\n",
    "    result = num_of_spaces * \" \" + s\n",
    "    return result"
   ]
  },
  {
   "cell_type": "code",
   "execution_count": 16,
   "metadata": {},
   "outputs": [
    {
     "name": "stdout",
     "output_type": "stream",
     "text": [
      "Welcome to McDonald's\n",
      "[1] ['Big Mac    ', 2.5] \n",
      "[2] ['Large Fries', 0.5] \n",
      "[3] ['Vegetarian Burger', 1.0]\n",
      "\n",
      "What would you like?\n",
      "1\n",
      "\n",
      "How many would you like?\n",
      "2\n",
      "Do you want to order more items?\n",
      "yes\n",
      "\n",
      "What would you like?\n",
      "2\n",
      "\n",
      "How many would you like?\n",
      "2\n",
      "Do you want to order more items?\n",
      "no\n",
      "\n",
      "Details of the order with itemwise quantity:  [[1, 2], [2, 2]]\n",
      "Thank you for ordering!\n",
      "Your total cost is: $6.0\n"
     ]
    }
   ],
   "source": [
    "############################################\n",
    "# Streamline the code below\n",
    "############################################\n",
    "\n",
    "def processOrder(quantity, item_list):\n",
    "    global total\n",
    "    if quantity > item_list[2]:\n",
    "        print(\"There is not enough stock!\")\n",
    "        pass\n",
    "    else:\n",
    "        total += item_list[1] * quantity\n",
    "        item_list[2] -= quantity\n",
    "\n",
    "total = 0\n",
    "A = [\"Big Mac    \", float(2.50), 50], [\"Large Fries\", float(0.50), 200], [\"Vegetarian Burger\", float(1.00), 20]\n",
    "\n",
    "print(\"Welcome to McDonald's\")\n",
    "print(\"[1]\", A[0][0:2],\n",
    "      \"\\n[2]\", A[1][0:2],\n",
    "      \"\\n[3]\", A[2][0:2])\n",
    "\n",
    "more_items = \"yes\"\n",
    "order_list = []\n",
    "while more_items == \"yes\":\n",
    "    choice, quantity = int(input(\"\\nWhat would you like?\\n\")), int(input(\"\\nHow many would you like?\\n\"))\n",
    "    if 1 <= choice <= 3:\n",
    "        processOrder(quantity, A[choice-1])\n",
    "        \n",
    "    more_items = (input(\"Do you want to order more items?\\n\")).lower()\n",
    "    \n",
    "    order_list.append([choice, quantity])  \n",
    "    \n",
    "print()\n",
    "print(\"Details of the order with itemwise quantity: \", order_list)\n",
    "print(\"Thank you for ordering!\\nYour total cost is: $\" +  str(total))"
   ]
  },
  {
   "cell_type": "code",
   "execution_count": 17,
   "metadata": {},
   "outputs": [],
   "source": [
    "# processing the amounts\n",
    "\n",
    "subtotal_itemcost = cal_subtotal(A, order_list)\n",
    "tax_amount = cal_taxamount(subtotal_itemcost, 0.10)\n",
    "total_billamt = cal_totalbill(subtotal_itemcost, tax_amount)"
   ]
  },
  {
   "cell_type": "markdown",
   "metadata": {},
   "source": [
    "### Printing the invoice with columns like a real receipt"
   ]
  },
  {
   "cell_type": "code",
   "execution_count": 18,
   "metadata": {},
   "outputs": [
    {
     "name": "stdout",
     "output_type": "stream",
     "text": [
      "            McDonald's\n",
      " 820 12th Ave, Seattle, WA 98122\n",
      "\n",
      "Date & time: 22-11-03 12:55:10 PM\n",
      "---------------------------------\n",
      "Table: 15  Chk: #3333  Guest: Sri\n",
      "---------------------------------\n",
      "\n",
      "Qty    Item Description     Price\n",
      "2      Big Mac              $5.00\n",
      "2      Large Fries          $1.00\n",
      "\n",
      "              Sub total     $6.00\n",
      "                    Tax     $0.60\n",
      "                  Total     $6.60\n",
      "\n",
      "  Thank you for dining with us!\n",
      "       Please Come Again\n"
     ]
    }
   ],
   "source": [
    "# Displaying the line items\n",
    "\n",
    "print(right_justify(\"McDonald's\"))\n",
    "print(\" 820 12th Ave, Seattle, WA 98122\")\n",
    "print()\n",
    "print(\"Date & time:\",datetime.datetime.now().strftime(\"%y-%m-%d\" \" \" \"%H:%M:%S\" \" \" \"PM\"))\n",
    "print(\"---------------------------------\")\n",
    "print('Table: 15' + \"  \" + 'Chk: #3333' + \"  \" + 'Guest: Sri')\n",
    "print(\"---------------------------------\")\n",
    "print()\n",
    "print('Qty    Item Description     Price')\n",
    "\n",
    "for item in order_list:\n",
    "    print(item[1], \"    \", A[item[0]-1][0], \"        \", \"${:,.2f}\".format(A[item[0]-1][1]*item[1]))\n",
    "        \n",
    "line1 = print_item(23, 'Sub total', subtotal_itemcost)\n",
    "line2 = print_item(23, 'Tax', tax_amount)\n",
    "line3 = print_item(23, 'Total', total_billamt)\n",
    "line_items = \"\\n\" + line1 + line2 + line3\n",
    "print(line_items)\n",
    "print(\"  Thank you for dining with us!\\n       Please Come Again\")"
   ]
  }
 ],
 "metadata": {
  "kernelspec": {
   "display_name": "Python 3 (ipykernel)",
   "language": "python",
   "name": "python3"
  },
  "language_info": {
   "codemirror_mode": {
    "name": "ipython",
    "version": 3
   },
   "file_extension": ".py",
   "mimetype": "text/x-python",
   "name": "python",
   "nbconvert_exporter": "python",
   "pygments_lexer": "ipython3",
   "version": "3.9.12"
  }
 },
 "nbformat": 4,
 "nbformat_minor": 4
}
