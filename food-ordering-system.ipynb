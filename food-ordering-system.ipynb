{
 "cells": [
  {
   "cell_type": "markdown",
   "id": "c78d784e",
   "metadata": {},
   "source": [
    "# Problem Solving Questions\n",
    "## Currency Conversion Program with base currency selection\n",
    "#### This program will ask the user for the base currency code and then ask them to enter the  target currency code and the amount that the user wants to convert. It will then convert the amount entered from the base currency to the target currency"
   ]
  },
  {
   "cell_type": "markdown",
   "id": "9f3582f6",
   "metadata": {},
   "source": [
    "### Self Evaluation:\n",
    "##### Does project a7-c work fully, partialy, or not at all?\n",
    "This program is fully working.\n",
    "\n",
    "##### Discuss what you have achieved\n",
    "Using the a7-b-Mallipudi project, I have modified the program to get input from the user about the base country currency code from the list of country codes displayed using the rates dictionary. Then the program asks the user for two inputs about the target currency code and the amount to be converted. If the base currency code and target currency code are in the rates dictionary. I used print() for the space between the output. The program change the base currency from USD to the specified base currency by dividing the target currency by specified base currency and displays the output in the format: \"Amount in base country currency is amount in target country currency\". "
   ]
  },
  {
   "cell_type": "code",
   "execution_count": 4,
   "id": "830fc902",
   "metadata": {},
   "outputs": [
    {
     "name": "stdout",
     "output_type": "stream",
     "text": [
      "Which Country Currency Conversion would you like to do?\n",
      "CAD\n",
      "HKD\n",
      "ISK\n",
      "PHP\n",
      "DKK\n",
      "HUF\n",
      "CZK\n",
      "GBP\n",
      "RON\n",
      "SEK\n",
      "IDR\n",
      "INR\n",
      "BRL\n",
      "RUB\n",
      "HRK\n",
      "JPY\n",
      "THB\n",
      "CHF\n",
      "EUR\n",
      "MYR\n",
      "BGN\n",
      "TRY\n",
      "CNY\n",
      "NOK\n",
      "NZD\n",
      "ZAR\n",
      "USD\n",
      "MXN\n",
      "SGD\n",
      "AUD\n",
      "ILS\n",
      "KRW\n",
      "PLN\n",
      "\n",
      "Enter your base country currency code: GBP\n",
      "\n",
      "Enter your target country currency code: INR\n",
      "\n",
      "Enter the amount to be converted: 80\n",
      "\n",
      "80.0 in GBP is 8220.90547207498 in INR\n"
     ]
    }
   ],
   "source": [
    "# import requests\n",
    "# import json\n",
    " \n",
    "# url = \"https://api.exchangeratesapi.io/latest?base=USD\"\n",
    " \n",
    "# response = requests.get(url)\n",
    "# data = response.text\n",
    "# parsed = json.loads(data)\n",
    "# date = parsed[\"date\"]\n",
    "# print(\"Date:\", date, \"\\n\")\n",
    "\n",
    "# rates = parsed[\"rates\"]\n",
    "# Currency rate of 2021-02-25\n",
    "\n",
    "#setting up the dictionary for currency code key\n",
    "rates = {'CAD': 1.2480163599, 'HKD': 7.7540286299, 'ISK': 125.3987730061, \\\n",
    "         'PHP': 48.6642126789, 'DKK': 6.0828629857, 'HUF': 294.6257668712, \\\n",
    "         'CZK': 21.3578732106, 'GBP': 0.7068139059, 'RON': 3.9875664622, \\\n",
    "         'SEK': 8.234601227, 'IDR': 14193.9468302658, 'INR': 72.6331288344, \\\n",
    "         'BRL': 5.453006135, 'RUB': 73.9074846626, 'HRK': 6.2081799591, \\\n",
    "         'JPY': 106.118609407, 'THB': 30.1496932515, 'CHF': 0.9060122699, \\\n",
    "         'EUR': 0.81799591, 'MYR': 4.0395092025, 'BGN': 1.5998364008, \\\n",
    "         'TRY': 7.2265030675, 'CNY': 6.4538241309, 'NOK': 8.3660531697, \\\n",
    "         'NZD': 1.3422494888, 'ZAR': 14.8139877301, 'USD': 1.0, \\\n",
    "         'MXN': 20.7299795501, 'SGD': 1.318609407, 'AUD': 1.2529243354, \\\n",
    "         'ILS': 3.2790184049, 'KRW': 1111.7709611452, 'PLN': 3.6909611452}\n",
    "\n",
    "#function that generates the rates dictionary\n",
    "def rates_dictionary():\n",
    "    print(\"Which Country Currency Conversion would you like to do?\")\n",
    "    for key in rates:\n",
    "        print(key)\n",
    "\n",
    "rates_dictionary() #Calls the rates dictionary function\n",
    "print()\n",
    "#getting the inputs from user\n",
    "basecurrency_code = str(input(\"Enter your base country currency code: \"))\n",
    "print()\n",
    "targetcurrency_code = str(input(\"Enter your target country currency code: \"))\n",
    "print()\n",
    "conversion_amt = float(input(\"Enter the amount to be converted: \"))\n",
    "print()\n",
    "if basecurrency_code and targetcurrency_code in rates:\n",
    "    print(\"{} in {} is {} in {}\".format(conversion_amt, basecurrency_code,\n",
    "                                        conversion_amt * rates[targetcurrency_code] / rates[basecurrency_code], \n",
    "                                        targetcurrency_code))"
   ]
  }
 ],
 "metadata": {
  "kernelspec": {
   "display_name": "Python 3 (ipykernel)",
   "language": "python",
   "name": "python3"
  },
  "language_info": {
   "codemirror_mode": {
    "name": "ipython",
    "version": 3
   },
   "file_extension": ".py",
   "mimetype": "text/x-python",
   "name": "python",
   "nbconvert_exporter": "python",
   "pygments_lexer": "ipython3",
   "version": "3.9.12"
  }
 },
 "nbformat": 4,
 "nbformat_minor": 5
}
