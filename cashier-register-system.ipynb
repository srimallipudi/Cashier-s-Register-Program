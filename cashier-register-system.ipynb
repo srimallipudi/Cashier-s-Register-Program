{
 "cells": [
  {
   "cell_type": "markdown",
   "id": "f02912d9",
   "metadata": {},
   "source": [
    "# Part III Problem Solving Questions\n",
    "## Creating Cashier's register program"
   ]
  },
  {
   "cell_type": "markdown",
   "id": "443f19c0",
   "metadata": {},
   "source": [
    "### Restuarant bill creation\n",
    "### Review: Suppose price of breadsticks (dish1) is <span>&#36;</span>30.80 and price of Mozzarella pizza(dish2) is <span>&#36;</span>66.50. Tax rate in Washington state is 10<span>&#37;</span> , discount is 5<span>&#37;</span> if the subtotal value is exceeding <span>&#36;</span>50 and 10<span>&#37;</span> if the subtotal value is exceeding <span>&#36;</span>100, and gratuity is 18<span>&#37;</span>. What is the total invoice bill?"
   ]
  },
  {
   "cell_type": "markdown",
   "id": "748bb264",
   "metadata": {},
   "source": [
    "#### Getting inputs from user"
   ]
  },
  {
   "cell_type": "code",
   "execution_count": 11,
   "id": "b0c40c81",
   "metadata": {},
   "outputs": [
    {
     "name": "stdout",
     "output_type": "stream",
     "text": [
      "\n",
      "Enter the price of the Breadsticks?\n",
      "30.80\n",
      "\n",
      "Enter the price of the Mozzarella Pizza?\n",
      "66.50\n"
     ]
    }
   ],
   "source": [
    "# Item descriptions and price\n",
    "breadsticks_price = float(input(\"\\nEnter the price of the Breadsticks?\\n\"))\n",
    "mozzarellapizza_price = float(input(\"\\nEnter the price of the Mozzarella Pizza?\\n\"))"
   ]
  },
  {
   "cell_type": "code",
   "execution_count": 1,
   "id": "81ac251e",
   "metadata": {},
   "outputs": [
    {
     "name": "stdout",
     "output_type": "stream",
     "text": [
      "\n",
      "Enter the tax rate in Washington state?\n",
      "0.10\n"
     ]
    }
   ],
   "source": [
    "# Tax rate in Washington State\n",
    "tax_rate = float(input(\"\\nEnter the tax rate in Washington state?\\n\"))"
   ]
  },
  {
   "cell_type": "code",
   "execution_count": 2,
   "id": "1aac2465",
   "metadata": {},
   "outputs": [
    {
     "name": "stdout",
     "output_type": "stream",
     "text": [
      "\n",
      "Enter the first discount rate on Subtotal?\n",
      "0.05\n",
      "\n",
      "Enter the second discount rate on Subtotal?\n",
      "0.10\n"
     ]
    }
   ],
   "source": [
    "# Discount rates to be applied on Subtotal\n",
    "disc_rate1 = float(input(\"\\nEnter the first discount rate on Subtotal?\\n\"))\n",
    "disc_rate2 = float(input(\"\\nEnter the second discount rate on Subtotal?\\n\"))"
   ]
  },
  {
   "cell_type": "code",
   "execution_count": 3,
   "id": "57f6d4f4",
   "metadata": {},
   "outputs": [
    {
     "name": "stdout",
     "output_type": "stream",
     "text": [
      "\n",
      "Enter the gratuity rate?\n",
      "0.18\n"
     ]
    }
   ],
   "source": [
    "# Gratuity rate in Washington State\n",
    "gratuity_rate = float(input(\"\\nEnter the gratuity rate?\\n\"))"
   ]
  },
  {
   "cell_type": "markdown",
   "id": "b56973b5",
   "metadata": {},
   "source": [
    "#### Create functions for tax component (10% in WA), Discount (5<span>&#37;</span> / 10<span>&#37;</span>), Gratuity (18%) calculations and invoice format printing"
   ]
  },
  {
   "cell_type": "code",
   "execution_count": 4,
   "id": "27a55c93",
   "metadata": {},
   "outputs": [],
   "source": [
    "# Computation of subtotal\n",
    "def cal_subtotal (dish1_price, dish2_price) :\n",
    "    return dish1_price + dish2_price"
   ]
  },
  {
   "cell_type": "code",
   "execution_count": 5,
   "id": "59b205ee",
   "metadata": {},
   "outputs": [],
   "source": [
    "# Computation of tax amount\n",
    "def cal_taxamount (subtotal, tax_rate):\n",
    "    return subtotal * tax_rate"
   ]
  },
  {
   "cell_type": "code",
   "execution_count": 6,
   "id": "9c0edfbd",
   "metadata": {},
   "outputs": [],
   "source": [
    "# Computation of discount\n",
    "def cal_discount (subtotal, disc_rate1, disc_rate2):\n",
    "    if subtotal <= 50:\n",
    "        return 0\n",
    "    elif subtotal > 50 and subtotal <= 100:\n",
    "        return subtotal * disc_rate1\n",
    "    else:\n",
    "        return subtotal * disc_rate2"
   ]
  },
  {
   "cell_type": "code",
   "execution_count": 7,
   "id": "ca85e5fd",
   "metadata": {},
   "outputs": [],
   "source": [
    "# Computation of gratuity amount\n",
    "def cal_gratuity (subtotal, tax_amount, discount, gratuity_rate):\n",
    "    return ((subtotal + tax_amount) - discount) * gratuity_rate"
   ]
  },
  {
   "cell_type": "code",
   "execution_count": 8,
   "id": "9c80dfaa",
   "metadata": {},
   "outputs": [],
   "source": [
    "# Computation of Total Due\n",
    "def cal_totaldue (subtotal, tax_amount, discount, gratuity_amount):\n",
    "    return (subtotal + tax_amount - discount + gratuity_amount)"
   ]
  },
  {
   "cell_type": "code",
   "execution_count": 13,
   "id": "f0fe6de4",
   "metadata": {},
   "outputs": [],
   "source": [
    "# Invoice formatting with a label\n",
    "def get_price_w_label(item_label, price):\n",
    "    return '{}  ${:,.2f}'.format(item_label, price)"
   ]
  },
  {
   "cell_type": "markdown",
   "id": "3af1f4a2",
   "metadata": {},
   "source": [
    "#### Simulating Cashier register machine"
   ]
  },
  {
   "cell_type": "code",
   "execution_count": 14,
   "id": "e750b5ea",
   "metadata": {},
   "outputs": [
    {
     "name": "stdout",
     "output_type": "stream",
     "text": [
      "Breadsticks  $30.80\n",
      "Mozarella Pizza  $66.50\n",
      "Sub total  $97.30\n",
      "Tax  $9.73\n",
      "Discount  $4.87\n",
      "Gratuity  $18.39\n",
      "Total Due  $120.55\n"
     ]
    }
   ],
   "source": [
    "# process\n",
    "subtotal_itemscost = cal_subtotal (breadsticks_price, mozzarellapizza_price)\n",
    "tax_amount = cal_taxamount (subtotal_itemscost, tax_rate)\n",
    "discount_amount = cal_discount (subtotal_itemscost, disc_rate1, disc_rate2)\n",
    "gratuity_amount = cal_gratuity (subtotal_itemscost, tax_amount, discount_amount, gratuity_rate)\n",
    "totaldue_invoice = cal_totaldue (subtotal_itemscost, tax_amount, discount_amount, gratuity_amount)\n",
    "\n",
    "# output\n",
    "print (get_price_w_label('Breadsticks', breadsticks_price))\n",
    "print (get_price_w_label('Mozarella Pizza', mozzarellapizza_price))\n",
    "print (get_price_w_label('Sub total', subtotal_itemscost))\n",
    "print (get_price_w_label('Tax', tax_amount))\n",
    "print (get_price_w_label('Discount', discount_amount))\n",
    "print (get_price_w_label('Gratuity', gratuity_amount))\n",
    "print (get_price_w_label('Total Due', totaldue_invoice))"
   ]
  },
  {
   "cell_type": "markdown",
   "id": "ed47f943",
   "metadata": {},
   "source": [
    "### Generating invoice with columns like a real receipt"
   ]
  },
  {
   "cell_type": "code",
   "execution_count": 163,
   "id": "73f5bcda",
   "metadata": {},
   "outputs": [],
   "source": [
    "# Using input method to get restuarant details, items description and price info from a user\n",
    "# Using functions to orgainse the program\n",
    "\n",
    "def get_itemname():\n",
    "    return input(\"Enter an item name: \")\n",
    "\n",
    "def get_itemprice():\n",
    "    return input(\"Enter the item price: \")\n",
    "\n",
    "def restuarant_name():\n",
    "    return input(\"Enter the name of the Restuarant: \")\n",
    "\n",
    "def print_resturant_name(num, n):\n",
    "    num_of_spaces = num - len(n)\n",
    "    result = num_of_spaces * \" \" + n\n",
    "    return result\n",
    "\n",
    "def address():\n",
    "    return input(\"Enter the address of the Restuarant:\")\n",
    "    \n",
    "def print_address(num, n):\n",
    "    num_of_spaces = num - len(n)\n",
    "    result = num_of_spaces * \" \" + n\n",
    "    return result\n",
    "\n",
    "def print_item(num, n, p):\n",
    "    num_of_spaces = num - len(n)\n",
    "    result = num_of_spaces * \" \" + n + \"  \" + \"${:,.2f}\".format(p) + \"\\n\"\n",
    "    return result\n",
    "\n",
    "def print_thanksnote(num, n):\n",
    "    num_of_spaces = num - len(n)\n",
    "    result = num_of_spaces * \" \" + n\n",
    "    return result"
   ]
  },
  {
   "cell_type": "markdown",
   "id": "5d26f48e",
   "metadata": {},
   "source": [
    "### Displaying each line item with its price aligned like a restuarant receipt"
   ]
  },
  {
   "cell_type": "code",
   "execution_count": 166,
   "id": "19b95a91",
   "metadata": {},
   "outputs": [
    {
     "name": "stdout",
     "output_type": "stream",
     "text": [
      "Enter the name of the Restuarant: Dominos\n",
      "Enter the address of the Restuarant:815 12th Ave, Seattle, WA 98122\n",
      "Enter the address of the Restuarant:720 9th Ave, Seattle, WA 98122\n",
      "Enter an item name: Breadsticks\n",
      "Enter the item price: 30.80\n",
      "Enter an item name: Mozarella Pizza\n",
      "Enter the item price: 66.50\n"
     ]
    }
   ],
   "source": [
    "# input\n",
    "restuarant_name = restuarant_name()\n",
    "restuarant_adress1 = address()\n",
    "restuarant_adress2 = address()\n",
    "item1_name = get_itemname()\n",
    "item1_price = float(get_itemprice())\n",
    "item2_name = get_itemname()\n",
    "item2_price = float(get_itemprice())"
   ]
  },
  {
   "cell_type": "markdown",
   "id": "0edd2528",
   "metadata": {},
   "source": [
    "#### Date and Time formatting"
   ]
  },
  {
   "cell_type": "code",
   "execution_count": 167,
   "id": "389d2883",
   "metadata": {},
   "outputs": [
    {
     "name": "stdout",
     "output_type": "stream",
     "text": [
      "2022-10-20 14:56:33.465262\n"
     ]
    }
   ],
   "source": [
    "# Import date and time modules\n",
    "import time\n",
    "import datetime\n",
    "\n",
    "print(datetime.datetime.now())"
   ]
  },
  {
   "cell_type": "code",
   "execution_count": 172,
   "id": "66c8b21b",
   "metadata": {},
   "outputs": [
    {
     "name": "stdout",
     "output_type": "stream",
     "text": [
      "\n",
      "             Dominos\n",
      "815 12th Ave, Seattle, WA 98122\n",
      "720 9th Ave, Seattle, WA 98122\n",
      "\n",
      "\n",
      "2022-10-20 14:58:36.579101\n",
      "Table: 15  Chk: #3333  Guest: Sri Lakshmi\n",
      "\n",
      "         Breadsticks  $30.80\n",
      "     Mozarella Pizza  $66.50\n",
      "\n",
      "           Sub total  $97.30\n",
      "                 Tax  $9.73\n",
      "            Discount  $4.87\n",
      "            Gratuity  $18.39\n",
      "           Total Due  $120.55\n",
      "\n",
      "Thank you for dining with us!\n",
      "      Please Come Again\n"
     ]
    }
   ],
   "source": [
    "# Displaying line items\n",
    "line1 = print_resturant_name(20, restuarant_name)\n",
    "line2 = print_address(10, restuarant_adress1)\n",
    "line3 = print_address(10, restuarant_adress2)\n",
    "\n",
    "restuarant_details = \"\\n\" + line1 + \"\\n\" + line2 + \"\\n\" + line3\n",
    "print(restuarant_details)\n",
    "print(\"\\n\")\n",
    "print(datetime.datetime.now())\n",
    "print('Table: 15' + \"  \" + 'Chk: #3333' + \"  \" + 'Guest: Sri Lakshmi')\n",
    "line4 = print_item(20, item1_name, item1_price)\n",
    "line5 = print_item(20, item2_name, item2_price)\n",
    "line6 = print_item(20, 'Sub total', subtotal_itemscost)\n",
    "line7 = print_item(20, 'Tax', tax_amount)\n",
    "line8 = print_item(20, 'Discount', discount_amount)\n",
    "line9 = print_item(20, 'Gratuity', gratuity_amount)\n",
    "line10 = print_item(20, 'Total Due', totaldue_invoice)\n",
    "line11 = print_thanksnote(15, 'Thank you for dining with us!')\n",
    "line12 = print_thanksnote(23, 'Please Come Again')\n",
    "\n",
    "line_items = \"\\n\" + line4 + line5 + \"\\n\" + line6 + line7 + line8 + line9 + line10 + \"\\n\" + line11 + \"\\n\" + line12\n",
    "\n",
    "print(line_items)"
   ]
  }
 ],
 "metadata": {
  "kernelspec": {
   "display_name": "Python 3 (ipykernel)",
   "language": "python",
   "name": "python3"
  },
  "language_info": {
   "codemirror_mode": {
    "name": "ipython",
    "version": 3
   },
   "file_extension": ".py",
   "mimetype": "text/x-python",
   "name": "python",
   "nbconvert_exporter": "python",
   "pygments_lexer": "ipython3",
   "version": "3.9.12"
  }
 },
 "nbformat": 4,
 "nbformat_minor": 5
}
