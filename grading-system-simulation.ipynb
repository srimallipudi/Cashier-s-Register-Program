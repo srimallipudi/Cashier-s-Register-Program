{
 "cells": [
  {
   "cell_type": "markdown",
   "id": "38a30107",
   "metadata": {},
   "source": [
    "# Part III: Problem Solving Questions\n",
    "## Simulating a Grading system"
   ]
  },
  {
   "cell_type": "code",
   "execution_count": 1,
   "id": "47c39e6c",
   "metadata": {},
   "outputs": [],
   "source": [
    "# Importing date & time modules\n",
    "# Displaying Current date and time \n",
    "\n",
    "import time\n",
    "import datetime"
   ]
  },
  {
   "cell_type": "markdown",
   "id": "15ab8aee",
   "metadata": {},
   "source": [
    "### Getting inputs from a user"
   ]
  },
  {
   "cell_type": "markdown",
   "id": "04488a21",
   "metadata": {},
   "source": [
    "#### Creating functions for program"
   ]
  },
  {
   "cell_type": "code",
   "execution_count": 2,
   "id": "6b66ded7",
   "metadata": {},
   "outputs": [],
   "source": [
    "# Using functions to organise the program\n",
    "# Function for determining grades for the student scores\n",
    "\n",
    "def grade(s):\n",
    "    s = int(s)\n",
    "    if s > 90 and s <= 100:\n",
    "        output = 'A'\n",
    "    elif s > 80 and s <= 90:\n",
    "        output = 'B'\n",
    "    elif s > 70 and s <= 80:\n",
    "        output = 'C'\n",
    "    else:\n",
    "        output = 'F'\n",
    "    return output\n",
    "\n",
    "# Function for input validation for entering the student scores\n",
    "\n",
    "def validate_input(score):\n",
    "    try:\n",
    "        val = int(score)\n",
    "        if val >= 0:\n",
    "            valid = True\n",
    "        else:\n",
    "            valid = False\n",
    "    except Exception:\n",
    "        valid = False\n",
    "    return valid"
   ]
  },
  {
   "cell_type": "markdown",
   "id": "b806f382",
   "metadata": {},
   "source": [
    "#### Event Controlled loop with input validation"
   ]
  },
  {
   "cell_type": "code",
   "execution_count": 3,
   "id": "6284b501",
   "metadata": {},
   "outputs": [
    {
     "name": "stdout",
     "output_type": "stream",
     "text": [
      "Enter the name of the student: Jessica\n",
      "Enter a score: 92\n",
      "Enter the name of the student: Ben\n",
      "Enter a score: -1\n",
      "Please enter a positive integer!\n",
      "Enter the name of the student: Michael\n",
      "Enter a score: 76\n",
      "Enter the name of the student: done\n",
      "Enter a score: done\n",
      "Error! Atleast three student scores should be entered\n",
      "Enter the name of the student: William\n",
      "Enter a score: 85\n",
      "Enter the name of the student: Paula\n",
      "Enter a score: score\n",
      "Please enter a positive integer!\n",
      "Enter the name of the student: Anthony\n",
      "Enter a score: 66\n",
      "Enter the name of the student: done\n",
      "Enter a score: done\n",
      "\n",
      "Current date and time: 22-10-27 11:48:54 PM\n",
      "\n",
      "Student   Score   Grade\n",
      "=======================\n",
      "Jessica   92      A\n",
      "Michael   76      C\n",
      "William   85      B\n",
      "Anthony   66      F\n",
      "\n",
      "Total score: 319\n",
      "Number of Students: 4\n",
      "Average score 79.75\n"
     ]
    }
   ],
   "source": [
    "# Accumulating whole output as a string, line by line enforcing input validation\n",
    "\n",
    "total = 0\n",
    "counter = 0\n",
    "student_name = input(\"Enter the name of the student: \")\n",
    "student_score = input(\"Enter a score: \")\n",
    "results = \"\"\n",
    "while True:\n",
    "    if student_score.lower() == 'done':\n",
    "        if counter < 3:\n",
    "            print ('Error! Atleast three student scores should be entered')\n",
    "        else:\n",
    "            break\n",
    "            \n",
    "    elif not(validate_input(student_score)):\n",
    "        print ('Please enter a positive integer!')\n",
    "        \n",
    "    else:\n",
    "        total += int(student_score)\n",
    "        counter += 1\n",
    "        results += student_name + \"   \" + student_score + \"      \" + grade(student_score) + \"\\n\"\n",
    "    student_name = input(\"Enter the name of the student: \")\n",
    "    student_score = input(\"Enter a score: \")\n",
    "    \n",
    "print()   \n",
    "print(\"Current date and time:\",datetime.datetime.now().strftime(\"%y-%m-%d\" \" \" \"%H:%M:%S\" \" \" \"PM\"))\n",
    "print()\n",
    "print('Student   Score   Grade')\n",
    "print('=======================')\n",
    "print(results)\n",
    "print(\"Total score:\", total)\n",
    "print(\"Number of Students:\", counter)\n",
    "print(\"Average score\", total/counter)"
   ]
  }
 ],
 "metadata": {
  "kernelspec": {
   "display_name": "Python 3 (ipykernel)",
   "language": "python",
   "name": "python3"
  },
  "language_info": {
   "codemirror_mode": {
    "name": "ipython",
    "version": 3
   },
   "file_extension": ".py",
   "mimetype": "text/x-python",
   "name": "python",
   "nbconvert_exporter": "python",
   "pygments_lexer": "ipython3",
   "version": "3.9.12"
  }
 },
 "nbformat": 4,
 "nbformat_minor": 5
}
