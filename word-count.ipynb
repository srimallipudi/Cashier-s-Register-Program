{
 "cells": [
  {
   "cell_type": "markdown",
   "id": "988ae7c1",
   "metadata": {},
   "source": [
    "# Part III: Problem Solving Questions\n",
    "## Word Count: Huckleberry Finn"
   ]
  },
  {
   "cell_type": "markdown",
   "id": "57f7fd99",
   "metadata": {},
   "source": [
    "### Self Evaluation:\n",
    "##### Does project a8-c work fully, partialy, or not at all?\n",
    "This program is working fully.\n",
    "\n",
    "##### Discuss what you have achieved\n",
    "Using the a8-a-Mallipudi project, this program performs user friendly ad-hoc questions. The program asks the user to enter a word he wants to find in the text file using input function. Then uses the for loop to display the number of times the word entered by the user appears in the book by going through all the words. Next it asks the user to enter a integer to search for all the words with same length in the book. Then the program uses for loop with length function to display all the words with same length as entered by the user."
   ]
  },
  {
   "cell_type": "markdown",
   "id": "14bab9ca",
   "metadata": {},
   "source": [
    "### Using Regular Expression to clean book's text"
   ]
  },
  {
   "cell_type": "code",
   "execution_count": 23,
   "id": "ca3df4a9",
   "metadata": {},
   "outputs": [],
   "source": [
    "import re\n",
    "import string\n",
    "document_text = open('huckleberryfinn.txt', 'r', encoding=\"utf8\")\n",
    "text_string = document_text.read().lower() #Coverts to lower case letters\n",
    "match_pattern = re.findall(r'\\b[a-z]{1,50}\\b', text_string)"
   ]
  },
  {
   "cell_type": "markdown",
   "id": "6fc4757e",
   "metadata": {},
   "source": [
    "### Using a dictionary to count the frequency of each word appeared"
   ]
  },
  {
   "cell_type": "code",
   "execution_count": 24,
   "id": "a3d5794c",
   "metadata": {},
   "outputs": [],
   "source": [
    "##add dictionary keys\n",
    "dictionary = {}\n",
    "for i in match_pattern:\n",
    "    if i not in dictionary: ##no repeat counting!\n",
    "        dictionary[i] = match_pattern.count(i) ##finds frequency of each words\n",
    "\n",
    "#converting the above dictionary into a list to alphabetize using sort\n",
    "finn_words = list(dictionary.items())\n",
    "finn_words.sort()"
   ]
  },
  {
   "cell_type": "code",
   "execution_count": 25,
   "id": "c4d206f4",
   "metadata": {},
   "outputs": [
    {
     "name": "stdout",
     "output_type": "stream",
     "text": [
      "Enter a word to find: \n",
      " >>ahead\n",
      "\n",
      "The word, ahead, occurs 22 times\n"
     ]
    }
   ],
   "source": [
    "#gets input from the user\n",
    "input_word = str(input(\"Enter a word to find: \\n >>\"))\n",
    "print()\n",
    "for word in range(len(finn_words)):\n",
    "    if finn_words[word][0] == input_word:\n",
    "        print(\"The word, {}, occurs {} times\".format(input_word, finn_words[word][1]))        "
   ]
  },
  {
   "cell_type": "code",
   "execution_count": 26,
   "id": "c59ef33c",
   "metadata": {},
   "outputs": [
    {
     "name": "stdout",
     "output_type": "stream",
     "text": [
      "Enter an integer to search all the words in same length: \n",
      " >>12\n",
      "\n",
      "['abolitionist'],['appointments'],['astonishment'],['astronomical'],['blackberries'],['bullyragging'],['candlesticks'],['caterpillars'],['chuckleheads'],['confidential'],['confirmation'],['congregation'],['consequences'],['considerable'],['consummation'],['conveniences'],['dadblamedest'],['difficulties'],['disappointed'],['dissatisfied'],['dissentering'],['distinctions'],['distributing'],['distribution'],['expectations'],['explanations'],['grangerfords'],['handkerchief'],['handwritings'],['independence'],['infringement'],['inscriptions'],['insurrection'],['intellectual'],['intoxication'],['lonesomeness'],['missionaryin'],['modification'],['neighborhood'],['onreasonable'],['outbuildings'],['particularly'],['penitentiary'],['performances'],['philadelphia'],['powerfullest'],['presbyterian'],['rapscallions'],['rattlesnakes'],['recollection'],['redistribute'],['relationship'],['representing'],['requirements'],['restrictions'],['resurrection'],['satisfaction'],['satisfactory'],['shepherdsons'],['solicitation'],['southwestern'],['straightened'],['strawberries'],['superstition'],['thrillingest'],['tiresomeness'],['underclothes'],['undigestible'],['undiscovered'],"
     ]
    }
   ],
   "source": [
    "#gets input from the user\n",
    "word_length = int(input(\"Enter an integer to search all the words in same length: \\n >>\"))\n",
    "print()\n",
    "for word in finn_words:\n",
    "    if (len(word[0]) == word_length):\n",
    "        print([word[0]], end = \",\")"
   ]
  }
 ],
 "metadata": {
  "kernelspec": {
   "display_name": "Python 3 (ipykernel)",
   "language": "python",
   "name": "python3"
  },
  "language_info": {
   "codemirror_mode": {
    "name": "ipython",
    "version": 3
   },
   "file_extension": ".py",
   "mimetype": "text/x-python",
   "name": "python",
   "nbconvert_exporter": "python",
   "pygments_lexer": "ipython3",
   "version": "3.9.12"
  }
 },
 "nbformat": 4,
 "nbformat_minor": 5
}
